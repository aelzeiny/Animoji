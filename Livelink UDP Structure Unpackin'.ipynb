{
 "cells": [
  {
   "cell_type": "code",
   "execution_count": 1,
   "id": "9f6fdf5d",
   "metadata": {},
   "outputs": [],
   "source": [
    "# Run this command to capture iPhone output\n",
    "# !nc -ul 11111 > livelink.udp 2>&1"
   ]
  },
  {
   "cell_type": "code",
   "execution_count": 2,
   "id": "74be9994",
   "metadata": {},
   "outputs": [],
   "source": [
    "import struct\n",
    "from typing import NamedTuple, List\n",
    "from enum import IntEnum\n",
    "\n",
    "with open('./livelink.udp', 'rb') as udp:\n",
    "    livelink_bytes = udp.read()"
   ]
  },
  {
   "cell_type": "code",
   "execution_count": null,
   "id": "f4fb67cd",
   "metadata": {},
   "outputs": [],
   "source": [
    "# ported from https://github.com/EpicGames/UnrealEngine\n",
    "\n",
    "# FILE: /Users/awkii/Documents/practice/UnrealEngine/Engine/Plugins/Runtime/AR/AppleAR/AppleARKitFaceSupport/Source/AppleARKitFaceSupport/Private/AppleARKitLiveLinkSource.cpp\n",
    "# READ(): void FAppleARKitLiveLinkRemoteListener::Tick(float DeltaTime)\n",
    "# WRITE(): void FAppleARKitLiveLinkRemotePublisher::PublishBlendShapes(FName SubjectName, const FQualifiedFrameTime& FrameTime, const FARBlendShapeMap& FaceBlendShapes, FName DeviceId)"
   ]
  },
  {
   "cell_type": "code",
   "execution_count": 3,
   "id": "46c08321",
   "metadata": {},
   "outputs": [],
   "source": [
    "class BlendShapes(IntEnum):\n",
    "    # Left eye blend shapes\n",
    "    EyeBlinkLeft = 0\n",
    "    EyeLookDownLeft = 1\n",
    "    EyeLookInLeft = 2\n",
    "    EyeLookOutLeft = 3\n",
    "    EyeLookUpLeft = 4\n",
    "    EyeSquintLeft = 5\n",
    "    EyeWideLeft = 6\n",
    "    # Right eye blend shapes\n",
    "    EyeBlinkRight = 7\n",
    "    EyeLookDownRight = 8\n",
    "    EyeLookInRight = 9\n",
    "    EyeLookOutRight = 10\n",
    "    EyeLookUpRight = 11\n",
    "    EyeSquintRight = 12\n",
    "    EyeWideRight = 13\n",
    "    # Jaw blend shapes\n",
    "    JawForward = 14\n",
    "    JawLeft = 15\n",
    "    JawRight = 16\n",
    "    JawOpen = 17\n",
    "    # Mouth blend shapes\n",
    "    MouthClose = 18\n",
    "    MouthFunnel = 19\n",
    "    MouthPucker = 20\n",
    "    MouthLeft = 21\n",
    "    MouthRight = 22\n",
    "    MouthSmileLeft = 23\n",
    "    MouthSmileRight = 24\n",
    "    MouthFrownLeft = 25\n",
    "    MouthFrownRight = 26\n",
    "    MouthDimpleLeft = 27\n",
    "    MouthDimpleRight = 28\n",
    "    MouthStretchLeft = 29\n",
    "    MouthStretchRight = 30\n",
    "    MouthRollLower = 31\n",
    "    MouthRollUpper = 32\n",
    "    MouthShrugLower = 33\n",
    "    MouthShrugUpper = 34\n",
    "    MouthPressLeft = 35\n",
    "    MouthPressRight = 36\n",
    "    MouthLowerDownLeft = 37\n",
    "    MouthLowerDownRight = 38\n",
    "    MouthUpperUpLeft = 39\n",
    "    MouthUpperUpRight = 40\n",
    "    # Brow blend shapes\n",
    "    BrowDownLeft = 41\n",
    "    BrowDownRight = 42\n",
    "    BrowInnerUp = 43\n",
    "    BrowOuterUpLeft = 44\n",
    "    BrowOuterUpRight = 45\n",
    "    # Cheek blend shapes\n",
    "    CheekPuff = 46\n",
    "    CheekSquintLeft = 47\n",
    "    CheekSquintRight = 48\n",
    "    # Nose blend shapes\n",
    "    NoseSneerLeft = 49\n",
    "    NoseSneerRight = 50\n",
    "    TongueOut = 51\n",
    "    # Treat the head rotation as curves for LiveLink support\n",
    "    HeadYaw = 52\n",
    "    HeadPitch = 53\n",
    "    HeadRoll = 54\n",
    "    # Treat eye rotation as curves for LiveLink support\n",
    "    LeftEyeYaw = 55\n",
    "    LeftEyePitch = 56\n",
    "    LeftEyeRoll = 57\n",
    "    RightEyeYaw = 58\n",
    "    RightEyePitch = 59\n",
    "    RightEyeRoll = 60"
   ]
  },
  {
   "cell_type": "code",
   "execution_count": 4,
   "id": "c69709b0",
   "metadata": {},
   "outputs": [
    {
     "data": {
      "text/plain": [
       "61"
      ]
     },
     "execution_count": 4,
     "metadata": {},
     "output_type": "execute_result"
    }
   ],
   "source": [
    "len(BlendShapes)"
   ]
  },
  {
   "cell_type": "code",
   "execution_count": 5,
   "id": "037ab5c1",
   "metadata": {},
   "outputs": [],
   "source": [
    "class FrameTime:\n",
    "    framenum: int\n",
    "    subframe: int\n",
    "    fps_numerator: int\n",
    "    fps_denominator: int\n",
    "\n",
    "class Livelink(NamedTuple):\n",
    "    packet_ver: int\n",
    "    device_id: str\n",
    "    subject_name: str\n",
    "    frametime: FrameTime\n",
    "    blendshape_count: int\n",
    "    face_blend_shapes_values: List[float] \n",
    "\n",
    "\n",
    "class LivelinkBuffer:\n",
    "    def __init__(self, buffer, offset=0):\n",
    "        self.buffer = buffer\n",
    "        self.offset = offset\n",
    "\n",
    "    def parse(self, unpack_format: str):\n",
    "        if not unpack_format.startswith('>') and not unpack_format.startswith('<'):\n",
    "            unpack_format = '>' + unpack_format\n",
    "        retval = struct.unpack_from(unpack_format, self.buffer, self.offset)\n",
    "        self.offset += struct.calcsize(unpack_format)\n",
    "        return retval\n",
    "    \n",
    "    def parse_str(self):\n",
    "        length, *_ = self.parse('i')\n",
    "        if length > 0:\n",
    "            retval = self.buffer[self.offset:self.offset+length]\n",
    "            self.offset += length\n",
    "            return retval.decode('utf8')\n",
    "        return ''\n",
    "    \n",
    "    def parse_frametime(self):\n",
    "        return FrameTime(*snip.parse('ifii'))\n",
    "    \n",
    "    def parse_livelink(self):\n",
    "        packet_ver, *_ = self.parse('B')\n",
    "        if packet_ver != 6:\n",
    "            raise NotImplementedError(\"Cannot support packet version: \" + str(packet_ver))\n",
    "        device_id, *_ = self.parse_str()\n",
    "        subject_name = self.parse_str()\n",
    "        frametime = self.parse('ifii')\n",
    "        blendshape_count, *_ = self.parse('B')\n",
    "        # In Unreal Engine code you have a check condition before\n",
    "        # blendshape_count is serialized. If the next byte is\n",
    "        # equal to the packet version, this is the start of a new packet\n",
    "        if blendshape_count != len(BlendShapes):\n",
    "            self.offset -= struct.calcsize('B')\n",
    "            return None\n",
    "        face_blend_shapes_values = self.parse('f' * blendshape_count)\n",
    "        return Livelink(\n",
    "            packet_ver, device_id, subject_name,\n",
    "            frametime,\n",
    "            blendshape_count, face_blend_shapes_values\n",
    "        )\n"
   ]
  },
  {
   "cell_type": "code",
   "execution_count": 9,
   "id": "b7a693c7",
   "metadata": {},
   "outputs": [
    {
     "data": {
      "text/plain": [
       "(-0.19074633717536926, 1.0, 0, 560)"
      ]
     },
     "execution_count": 9,
     "metadata": {},
     "output_type": "execute_result"
    }
   ],
   "source": [
    "snip = LivelinkBuffer(livelink_bytes)\n",
    "\n",
    "most_min = 2\n",
    "most_max = -1\n",
    "total = 0\n",
    "\n",
    "# These values should be between 0 to 1.\n",
    "# Negatives occastionally occur, and should be ignored.\n",
    "while snip.offset < len(livelink_bytes):\n",
    "    livelink = snip.parse_livelink()\n",
    "    if livelink == None:\n",
    "        continue\n",
    "    mmin = min(livelink.face_blend_shapes_values)\n",
    "    mmax = max(livelink.face_blend_shapes_values)\n",
    "    if mmin < most_min:\n",
    "        most_min = mmin\n",
    "    if mmax > most_max:\n",
    "        most_max = mmax\n",
    "    total += 1\n",
    "\n",
    "most_min, most_max, error_count, total"
   ]
  },
  {
   "cell_type": "code",
   "execution_count": 10,
   "id": "347732e6",
   "metadata": {},
   "outputs": [
    {
     "data": {
      "text/plain": [
       "Livelink(packet_ver=6, device_id='1', subject_name='Ahmeds_iPhone', frametime=(1096414, 0.2552375793457031, 60, 1), blendshape_count=61, face_blend_shapes_values=(0.6528505682945251, 0.49640795588493347, 0.11688006669282913, 0.0, 0.0, 0.05742459371685982, 0.0, 0.6556288003921509, 0.49774667620658875, 9.538116864860058e-05, 0.0, 0.0, 0.05742422491312027, 0.0, 0.023357238620519638, 0.0052541689947247505, 0.0, 0.0554061233997345, 0.07145385444164276, 0.09527645260095596, 0.36399880051612854, 0.0, 0.021346818655729294, 0.0, 0.0, 0.07755988091230392, 0.06911591440439224, 0.017455056309700012, 0.01804226078093052, 0.04070117697119713, 0.042244505137205124, 0.05893817916512489, 0.01590118370950222, 0.14774569869041443, 0.11772327125072479, 0.06696517020463943, 0.06838994473218918, 0.027602296322584152, 0.02812124229967594, 0.01904251240193844, 0.021279558539390564, 0.09746091067790985, 0.09731905162334442, 0.07517478615045547, 0.0, 0.0, 0.18365933001041412, 0.040523797273635864, 0.04445596784353256, 0.09587085992097855, 0.10142657160758972, 5.96365907767904e-08, 0.09523141384124756, 0.29515162110328674, 0.008784395642578602, -5.559242345043458e-05, 0.30405619740486145, -1.7444133845856413e-05, 0.06813524663448334, 0.3039661943912506, 0.021353380754590034))"
      ]
     },
     "execution_count": 10,
     "metadata": {},
     "output_type": "execute_result"
    }
   ],
   "source": [
    "livelink"
   ]
  }
 ],
 "metadata": {
  "kernelspec": {
   "display_name": "Python 3 (ipykernel)",
   "language": "python",
   "name": "python3"
  },
  "language_info": {
   "codemirror_mode": {
    "name": "ipython",
    "version": 3
   },
   "file_extension": ".py",
   "mimetype": "text/x-python",
   "name": "python",
   "nbconvert_exporter": "python",
   "pygments_lexer": "ipython3",
   "version": "3.10.3"
  }
 },
 "nbformat": 4,
 "nbformat_minor": 5
}
